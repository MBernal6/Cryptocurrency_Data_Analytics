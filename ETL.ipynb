{
 "cells": [
  {
   "cell_type": "markdown",
   "metadata": {},
   "source": [
    "# **PROCESO ETL** \n",
    "- En este notebook se desarrollará la extracción de los datos de la API coingecko, las transformaciones necesarias y la carga en un dataset que permita realizar posteriormente un EDA. "
   ]
  },
  {
   "cell_type": "markdown",
   "metadata": {},
   "source": [
    "## Importamos las librerias necesarias"
   ]
  },
  {
   "cell_type": "code",
   "execution_count": 20,
   "metadata": {},
   "outputs": [],
   "source": [
    "#Librerias para trabajar los datos\n",
    "import pandas as pd \n",
    "import numpy as np \n",
    "#Libreria para obtener los datos de la api sin request\n",
    "#! pip install pycoingecko \n",
    "from pycoingecko import CoinGeckoAPI"
   ]
  },
  {
   "cell_type": "markdown",
   "metadata": {},
   "source": [
    "- El envoltorio para la API de CoinGecko permite llamar a los puntos finales de la API."
   ]
  },
  {
   "cell_type": "code",
   "execution_count": 21,
   "metadata": {},
   "outputs": [],
   "source": [
    "#Instanciar la clase CoinGeckoAPI\n",
    "cg = CoinGeckoAPI() "
   ]
  },
  {
   "cell_type": "markdown",
   "metadata": {},
   "source": [
    "## **I. Extracción de los datos**"
   ]
  },
  {
   "cell_type": "markdown",
   "metadata": {},
   "source": [
    "En la actualidad existen más de 10000 monedas digitales, por lo que es necesario realizar una selección para poder realizar un análisis personalizado. Si bien la selección puede ser arbitraria se seleccionará aquellas monedas en base a las siguientes premisas:\n",
    "- Una demanda continua asegurando la existencia de un mercado, lo cual se verá con el posicionamiento de actual del trade market en coingecko, escogiendo las 10 primeras de este ranking.\n",
    "- Una estimación de las cryptos con mejor proyección de crecimiento o se catalogan con mejor futuro, las cuales son detalladas en articulo de la página Investing llamado [\"Las criptomonedas con más futuro\"](https://es.investing.com/academy/crypto/criptomonedas-con-mas-futuro/), de las cuales se escogeran 2."
   ]
  },
  {
   "cell_type": "markdown",
   "metadata": {},
   "source": [
    "1. Selección TOP 10"
   ]
  },
  {
   "cell_type": "code",
   "execution_count": 69,
   "metadata": {},
   "outputs": [
    {
     "data": {
      "text/html": [
       "<div>\n",
       "<style scoped>\n",
       "    .dataframe tbody tr th:only-of-type {\n",
       "        vertical-align: middle;\n",
       "    }\n",
       "\n",
       "    .dataframe tbody tr th {\n",
       "        vertical-align: top;\n",
       "    }\n",
       "\n",
       "    .dataframe thead th {\n",
       "        text-align: right;\n",
       "    }\n",
       "</style>\n",
       "<table border=\"1\" class=\"dataframe\">\n",
       "  <thead>\n",
       "    <tr style=\"text-align: right;\">\n",
       "      <th></th>\n",
       "      <th>id</th>\n",
       "      <th>symbol</th>\n",
       "      <th>name</th>\n",
       "      <th>market_cap_rank</th>\n",
       "    </tr>\n",
       "  </thead>\n",
       "  <tbody>\n",
       "    <tr>\n",
       "      <th>0</th>\n",
       "      <td>bitcoin</td>\n",
       "      <td>btc</td>\n",
       "      <td>Bitcoin</td>\n",
       "      <td>1</td>\n",
       "    </tr>\n",
       "    <tr>\n",
       "      <th>1</th>\n",
       "      <td>ethereum</td>\n",
       "      <td>eth</td>\n",
       "      <td>Ethereum</td>\n",
       "      <td>2</td>\n",
       "    </tr>\n",
       "    <tr>\n",
       "      <th>2</th>\n",
       "      <td>tether</td>\n",
       "      <td>usdt</td>\n",
       "      <td>Tether</td>\n",
       "      <td>3</td>\n",
       "    </tr>\n",
       "    <tr>\n",
       "      <th>3</th>\n",
       "      <td>binancecoin</td>\n",
       "      <td>bnb</td>\n",
       "      <td>BNB</td>\n",
       "      <td>4</td>\n",
       "    </tr>\n",
       "    <tr>\n",
       "      <th>4</th>\n",
       "      <td>ripple</td>\n",
       "      <td>xrp</td>\n",
       "      <td>XRP</td>\n",
       "      <td>5</td>\n",
       "    </tr>\n",
       "    <tr>\n",
       "      <th>5</th>\n",
       "      <td>usd-coin</td>\n",
       "      <td>usdc</td>\n",
       "      <td>USD Coin</td>\n",
       "      <td>6</td>\n",
       "    </tr>\n",
       "    <tr>\n",
       "      <th>6</th>\n",
       "      <td>staked-ether</td>\n",
       "      <td>steth</td>\n",
       "      <td>Lido Staked Ether</td>\n",
       "      <td>7</td>\n",
       "    </tr>\n",
       "    <tr>\n",
       "      <th>7</th>\n",
       "      <td>cardano</td>\n",
       "      <td>ada</td>\n",
       "      <td>Cardano</td>\n",
       "      <td>8</td>\n",
       "    </tr>\n",
       "    <tr>\n",
       "      <th>8</th>\n",
       "      <td>dogecoin</td>\n",
       "      <td>doge</td>\n",
       "      <td>Dogecoin</td>\n",
       "      <td>9</td>\n",
       "    </tr>\n",
       "    <tr>\n",
       "      <th>9</th>\n",
       "      <td>solana</td>\n",
       "      <td>sol</td>\n",
       "      <td>Solana</td>\n",
       "      <td>10</td>\n",
       "    </tr>\n",
       "  </tbody>\n",
       "</table>\n",
       "</div>"
      ],
      "text/plain": [
       "             id symbol               name  market_cap_rank\n",
       "0       bitcoin    btc            Bitcoin                1\n",
       "1      ethereum    eth           Ethereum                2\n",
       "2        tether   usdt             Tether                3\n",
       "3   binancecoin    bnb                BNB                4\n",
       "4        ripple    xrp                XRP                5\n",
       "5      usd-coin   usdc           USD Coin                6\n",
       "6  staked-ether  steth  Lido Staked Ether                7\n",
       "7       cardano    ada            Cardano                8\n",
       "8      dogecoin   doge           Dogecoin                9\n",
       "9        solana    sol             Solana               10"
      ]
     },
     "execution_count": 69,
     "metadata": {},
     "output_type": "execute_result"
    }
   ],
   "source": [
    "#El método get_coins_market() devuelve datos relacionados con el mercado\n",
    "all_coins_market = cg.get_coins_markets(vs_currency ='usd')\n",
    "#Convertir en dataframe\n",
    "all_coins_market_df = pd.DataFrame(all_coins_market)\n",
    "#Seleccionar las 10 cryptos mejor ranqueada.\n",
    "selected_columns = ['id', 'symbol','name','market_cap_rank']\n",
    "rank_cryptos = all_coins_market_df[selected_columns]\n",
    "rank_cryptos.head(10)"
   ]
  },
  {
   "cell_type": "markdown",
   "metadata": {},
   "source": [
    "2. Selección 2 crytos con mayor futuro\n",
    "- La selección se realizará del articulo [\"Las criptomonedas con más futuro\"](https://es.investing.com/academy/crypto/criptomonedas-con-mas-futuro/), las crytos son siguientes:\n",
    "    - Algorand, Cosmos."
   ]
  },
  {
   "cell_type": "code",
   "execution_count": 70,
   "metadata": {},
   "outputs": [
    {
     "data": {
      "text/html": [
       "<div>\n",
       "<style scoped>\n",
       "    .dataframe tbody tr th:only-of-type {\n",
       "        vertical-align: middle;\n",
       "    }\n",
       "\n",
       "    .dataframe tbody tr th {\n",
       "        vertical-align: top;\n",
       "    }\n",
       "\n",
       "    .dataframe thead th {\n",
       "        text-align: right;\n",
       "    }\n",
       "</style>\n",
       "<table border=\"1\" class=\"dataframe\">\n",
       "  <thead>\n",
       "    <tr style=\"text-align: right;\">\n",
       "      <th></th>\n",
       "      <th>id</th>\n",
       "      <th>symbol</th>\n",
       "      <th>name</th>\n",
       "      <th>market_cap_rank</th>\n",
       "    </tr>\n",
       "  </thead>\n",
       "  <tbody>\n",
       "    <tr>\n",
       "      <th>0</th>\n",
       "      <td>bitcoin</td>\n",
       "      <td>btc</td>\n",
       "      <td>Bitcoin</td>\n",
       "      <td>1</td>\n",
       "    </tr>\n",
       "    <tr>\n",
       "      <th>1</th>\n",
       "      <td>ethereum</td>\n",
       "      <td>eth</td>\n",
       "      <td>Ethereum</td>\n",
       "      <td>2</td>\n",
       "    </tr>\n",
       "    <tr>\n",
       "      <th>2</th>\n",
       "      <td>tether</td>\n",
       "      <td>usdt</td>\n",
       "      <td>Tether</td>\n",
       "      <td>3</td>\n",
       "    </tr>\n",
       "    <tr>\n",
       "      <th>3</th>\n",
       "      <td>binancecoin</td>\n",
       "      <td>bnb</td>\n",
       "      <td>BNB</td>\n",
       "      <td>4</td>\n",
       "    </tr>\n",
       "    <tr>\n",
       "      <th>4</th>\n",
       "      <td>ripple</td>\n",
       "      <td>xrp</td>\n",
       "      <td>XRP</td>\n",
       "      <td>5</td>\n",
       "    </tr>\n",
       "    <tr>\n",
       "      <th>5</th>\n",
       "      <td>usd-coin</td>\n",
       "      <td>usdc</td>\n",
       "      <td>USD Coin</td>\n",
       "      <td>6</td>\n",
       "    </tr>\n",
       "    <tr>\n",
       "      <th>6</th>\n",
       "      <td>staked-ether</td>\n",
       "      <td>steth</td>\n",
       "      <td>Lido Staked Ether</td>\n",
       "      <td>7</td>\n",
       "    </tr>\n",
       "    <tr>\n",
       "      <th>7</th>\n",
       "      <td>cardano</td>\n",
       "      <td>ada</td>\n",
       "      <td>Cardano</td>\n",
       "      <td>8</td>\n",
       "    </tr>\n",
       "    <tr>\n",
       "      <th>8</th>\n",
       "      <td>dogecoin</td>\n",
       "      <td>doge</td>\n",
       "      <td>Dogecoin</td>\n",
       "      <td>9</td>\n",
       "    </tr>\n",
       "    <tr>\n",
       "      <th>9</th>\n",
       "      <td>solana</td>\n",
       "      <td>sol</td>\n",
       "      <td>Solana</td>\n",
       "      <td>10</td>\n",
       "    </tr>\n",
       "    <tr>\n",
       "      <th>28</th>\n",
       "      <td>cosmos</td>\n",
       "      <td>atom</td>\n",
       "      <td>Cosmos Hub</td>\n",
       "      <td>29</td>\n",
       "    </tr>\n",
       "    <tr>\n",
       "      <th>50</th>\n",
       "      <td>algorand</td>\n",
       "      <td>algo</td>\n",
       "      <td>Algorand</td>\n",
       "      <td>51</td>\n",
       "    </tr>\n",
       "  </tbody>\n",
       "</table>\n",
       "</div>"
      ],
      "text/plain": [
       "              id symbol               name  market_cap_rank\n",
       "0        bitcoin    btc            Bitcoin                1\n",
       "1       ethereum    eth           Ethereum                2\n",
       "2         tether   usdt             Tether                3\n",
       "3    binancecoin    bnb                BNB                4\n",
       "4         ripple    xrp                XRP                5\n",
       "5       usd-coin   usdc           USD Coin                6\n",
       "6   staked-ether  steth  Lido Staked Ether                7\n",
       "7        cardano    ada            Cardano                8\n",
       "8       dogecoin   doge           Dogecoin                9\n",
       "9         solana    sol             Solana               10\n",
       "28        cosmos   atom         Cosmos Hub               29\n",
       "50      algorand   algo           Algorand               51"
      ]
     },
     "execution_count": 70,
     "metadata": {},
     "output_type": "execute_result"
    }
   ],
   "source": [
    "#Definir una lista llamada cryptos que contendra todas las monedas a analizar\n",
    "cryptos = ['bitcoin','ethereum','tether','binancecoin','ripple','usd-coin','staked-ether','cardano','solana','dogecoin','algorand',\n",
    "'cosmos']\n",
    "#Imprimir\n",
    "cryptos_list = rank_cryptos[rank_cryptos['id'].isin(id)]\n",
    "cryptos_list.head(12)"
   ]
  },
  {
   "cell_type": "markdown",
   "metadata": {},
   "source": [
    "3. Extracción de información \n",
    "- Primero, se extraerá los datos generales de las criptomonedas para crear una tabla de Id"
   ]
  },
  {
   "cell_type": "code",
   "execution_count": 71,
   "metadata": {},
   "outputs": [],
   "source": [
    "columns = ['id', 'symbol','name']\n",
    "coins = pd.DataFrame(cryptos_list[columns])"
   ]
  },
  {
   "cell_type": "markdown",
   "metadata": {},
   "source": [
    "- Segundo, se extraerá precios en dolares, volumenes de negociación y market cap de un periodo de 5 años para cada una de las 12 cryptos elegidas."
   ]
  },
  {
   "cell_type": "code",
   "execution_count": 87,
   "metadata": {},
   "outputs": [],
   "source": [
    "# Diccionario para almacenar los DataFrames de cada moneda\n",
    "coin_dataframes = {}"
   ]
  },
  {
   "cell_type": "code",
   "execution_count": 88,
   "metadata": {},
   "outputs": [],
   "source": [
    "# Iterar a través de los id de monedas y obtener los datos\n",
    "for crypto in cryptos:\n",
    "    #Se usa el metodo get_coin_market_chart_range_by_id para obtener data historica entre dos intervalos de tiempo\n",
    "    coin_history = cg.get_coin_market_chart_range_by_id(id=crypto,\n",
    "                                                         vs_currency='usd',\n",
    "                                                         from_timestamp='1534291200', # Agosto 15, 2018\n",
    "                                                         to_timestamp='1692057600', # Agosto 15, 2023\n",
    "                                                         localization=False)\n",
    "    coin_dataframes[crypto] = pd.DataFrame(coin_history)"
   ]
  },
  {
   "cell_type": "code",
   "execution_count": 111,
   "metadata": {},
   "outputs": [
    {
     "data": {
      "text/html": [
       "<div>\n",
       "<style scoped>\n",
       "    .dataframe tbody tr th:only-of-type {\n",
       "        vertical-align: middle;\n",
       "    }\n",
       "\n",
       "    .dataframe tbody tr th {\n",
       "        vertical-align: top;\n",
       "    }\n",
       "\n",
       "    .dataframe thead th {\n",
       "        text-align: right;\n",
       "    }\n",
       "</style>\n",
       "<table border=\"1\" class=\"dataframe\">\n",
       "  <thead>\n",
       "    <tr style=\"text-align: right;\">\n",
       "      <th></th>\n",
       "      <th>prices</th>\n",
       "      <th>market_caps</th>\n",
       "      <th>total_volumes</th>\n",
       "      <th>Data</th>\n",
       "    </tr>\n",
       "  </thead>\n",
       "  <tbody>\n",
       "    <tr>\n",
       "      <th>0</th>\n",
       "      <td>[1534291200000, 6212.2260400556115]</td>\n",
       "      <td>[1534291200000, 106911788926.75307]</td>\n",
       "      <td>[1534291200000, 7179484727.419351]</td>\n",
       "      <td>[1534291200000, 6212.2260400556115, 1069117889...</td>\n",
       "    </tr>\n",
       "    <tr>\n",
       "      <th>1</th>\n",
       "      <td>[1534377600000, 6267.76870877378]</td>\n",
       "      <td>[1534377600000, 107788817699.53123]</td>\n",
       "      <td>[1534377600000, 6619548180.387301]</td>\n",
       "      <td>[1534377600000, 6267.76870877378, 107788817699...</td>\n",
       "    </tr>\n",
       "    <tr>\n",
       "      <th>2</th>\n",
       "      <td>[1534464000000, 6309.385226218996]</td>\n",
       "      <td>[1534464000000, 108578823549.00035]</td>\n",
       "      <td>[1534464000000, 5982589406.965]</td>\n",
       "      <td>[1534464000000, 6309.385226218996, 10857882354...</td>\n",
       "    </tr>\n",
       "    <tr>\n",
       "      <th>3</th>\n",
       "      <td>[1534550400000, 6566.715163377382]</td>\n",
       "      <td>[1534550400000, 113018605465.47177]</td>\n",
       "      <td>[1534550400000, 6206194158.951437]</td>\n",
       "      <td>[1534550400000, 6566.715163377382, 11301860546...</td>\n",
       "    </tr>\n",
       "    <tr>\n",
       "      <th>4</th>\n",
       "      <td>[1534636800000, 6382.0605914076095]</td>\n",
       "      <td>[1534636800000, 109889851531.17278]</td>\n",
       "      <td>[1534636800000, 5616965845.869809]</td>\n",
       "      <td>[1534636800000, 6382.0605914076095, 1098898515...</td>\n",
       "    </tr>\n",
       "    <tr>\n",
       "      <th>...</th>\n",
       "      <td>...</td>\n",
       "      <td>...</td>\n",
       "      <td>...</td>\n",
       "      <td>...</td>\n",
       "    </tr>\n",
       "    <tr>\n",
       "      <th>1822</th>\n",
       "      <td>[1691712000000, 29423.81891597763]</td>\n",
       "      <td>[1691712000000, 572414205818.4142]</td>\n",
       "      <td>[1691712000000, 8106253519.025447]</td>\n",
       "      <td>[1691712000000, 29423.81891597763, 57241420581...</td>\n",
       "    </tr>\n",
       "    <tr>\n",
       "      <th>1823</th>\n",
       "      <td>[1691798400000, 29396.8479714205]</td>\n",
       "      <td>[1691798400000, 571976559045.8302]</td>\n",
       "      <td>[1691798400000, 4651950357.636653]</td>\n",
       "      <td>[1691798400000, 29396.8479714205, 571976559045...</td>\n",
       "    </tr>\n",
       "    <tr>\n",
       "      <th>1824</th>\n",
       "      <td>[1691884800000, 29412.142274584105]</td>\n",
       "      <td>[1691884800000, 572257798803.9086]</td>\n",
       "      <td>[1691884800000, 3994297895.288944]</td>\n",
       "      <td>[1691884800000, 29412.142274584105, 5722577988...</td>\n",
       "    </tr>\n",
       "    <tr>\n",
       "      <th>1825</th>\n",
       "      <td>[1691971200000, 29284.96971374381]</td>\n",
       "      <td>[1691971200000, 569687130446.7833]</td>\n",
       "      <td>[1691971200000, 4755220448.634491]</td>\n",
       "      <td>[1691971200000, 29284.96971374381, 56968713044...</td>\n",
       "    </tr>\n",
       "    <tr>\n",
       "      <th>1826</th>\n",
       "      <td>[1692057600000, 29400.58680419105]</td>\n",
       "      <td>[1692057600000, 572242735188.2397]</td>\n",
       "      <td>[1692057600000, 12408355477.111338]</td>\n",
       "      <td>[1692057600000, 29400.58680419105, 57224273518...</td>\n",
       "    </tr>\n",
       "  </tbody>\n",
       "</table>\n",
       "<p>1827 rows × 4 columns</p>\n",
       "</div>"
      ],
      "text/plain": [
       "                                   prices  \\\n",
       "0     [1534291200000, 6212.2260400556115]   \n",
       "1       [1534377600000, 6267.76870877378]   \n",
       "2      [1534464000000, 6309.385226218996]   \n",
       "3      [1534550400000, 6566.715163377382]   \n",
       "4     [1534636800000, 6382.0605914076095]   \n",
       "...                                   ...   \n",
       "1822   [1691712000000, 29423.81891597763]   \n",
       "1823    [1691798400000, 29396.8479714205]   \n",
       "1824  [1691884800000, 29412.142274584105]   \n",
       "1825   [1691971200000, 29284.96971374381]   \n",
       "1826   [1692057600000, 29400.58680419105]   \n",
       "\n",
       "                              market_caps  \\\n",
       "0     [1534291200000, 106911788926.75307]   \n",
       "1     [1534377600000, 107788817699.53123]   \n",
       "2     [1534464000000, 108578823549.00035]   \n",
       "3     [1534550400000, 113018605465.47177]   \n",
       "4     [1534636800000, 109889851531.17278]   \n",
       "...                                   ...   \n",
       "1822   [1691712000000, 572414205818.4142]   \n",
       "1823   [1691798400000, 571976559045.8302]   \n",
       "1824   [1691884800000, 572257798803.9086]   \n",
       "1825   [1691971200000, 569687130446.7833]   \n",
       "1826   [1692057600000, 572242735188.2397]   \n",
       "\n",
       "                            total_volumes  \\\n",
       "0      [1534291200000, 7179484727.419351]   \n",
       "1      [1534377600000, 6619548180.387301]   \n",
       "2         [1534464000000, 5982589406.965]   \n",
       "3      [1534550400000, 6206194158.951437]   \n",
       "4      [1534636800000, 5616965845.869809]   \n",
       "...                                   ...   \n",
       "1822   [1691712000000, 8106253519.025447]   \n",
       "1823   [1691798400000, 4651950357.636653]   \n",
       "1824   [1691884800000, 3994297895.288944]   \n",
       "1825   [1691971200000, 4755220448.634491]   \n",
       "1826  [1692057600000, 12408355477.111338]   \n",
       "\n",
       "                                                   Data  \n",
       "0     [1534291200000, 6212.2260400556115, 1069117889...  \n",
       "1     [1534377600000, 6267.76870877378, 107788817699...  \n",
       "2     [1534464000000, 6309.385226218996, 10857882354...  \n",
       "3     [1534550400000, 6566.715163377382, 11301860546...  \n",
       "4     [1534636800000, 6382.0605914076095, 1098898515...  \n",
       "...                                                 ...  \n",
       "1822  [1691712000000, 29423.81891597763, 57241420581...  \n",
       "1823  [1691798400000, 29396.8479714205, 571976559045...  \n",
       "1824  [1691884800000, 29412.142274584105, 5722577988...  \n",
       "1825  [1691971200000, 29284.96971374381, 56968713044...  \n",
       "1826  [1692057600000, 29400.58680419105, 57224273518...  \n",
       "\n",
       "[1827 rows x 4 columns]"
      ]
     },
     "execution_count": 111,
     "metadata": {},
     "output_type": "execute_result"
    }
   ],
   "source": [
    "#Ejemplo de df dentro del diccionario\n",
    "coin_dataframes['bitcoin']"
   ]
  },
  {
   "cell_type": "markdown",
   "metadata": {},
   "source": [
    "- Una vez creado el diccionario con todos los dataframes, se crea uno para cada coin"
   ]
  },
  {
   "cell_type": "code",
   "execution_count": 120,
   "metadata": {},
   "outputs": [],
   "source": [
    "#Crear los dataframe para cada crypto\n",
    "bitcoin_df =  pd.DataFrame(coin_dataframes['bitcoin'])\n",
    "ethereum_df = pd.DataFrame(coin_dataframes['ethereum'])\n",
    "tether_df = pd.DataFrame(coin_dataframes['tether'])\n",
    "binancecoin_df = pd.DataFrame(coin_dataframes['binancecoin'])\n",
    "ripple_df = pd.DataFrame(coin_dataframes['ripple'])\n",
    "usdcoin_df = pd.DataFrame(coin_dataframes['usd-coin'])\n",
    "stakedether_df = pd.DataFrame(coin_dataframes['staked-ether'])\n",
    "cardano_df = pd.DataFrame(coin_dataframes['cardano'])\n",
    "solana_df = pd.DataFrame(coin_dataframes['solana'])\n",
    "dogecoin_df = pd.DataFrame(coin_dataframes['dogecoin'])\n",
    "algorand_df = pd.DataFrame(coin_dataframes['algorand'])\n",
    "cosmos_df = pd.DataFrame(coin_dataframes['cosmos'])"
   ]
  },
  {
   "cell_type": "code",
   "execution_count": 121,
   "metadata": {},
   "outputs": [
    {
     "name": "stdout",
     "output_type": "stream",
     "text": [
      "<class 'pandas.core.frame.DataFrame'>\n",
      "RangeIndex: 1827 entries, 0 to 1826\n",
      "Data columns (total 4 columns):\n",
      " #   Column         Non-Null Count  Dtype \n",
      "---  ------         --------------  ----- \n",
      " 0   prices         1827 non-null   object\n",
      " 1   market_caps    1827 non-null   object\n",
      " 2   total_volumes  1827 non-null   object\n",
      " 3   Data           1827 non-null   object\n",
      "dtypes: object(4)\n",
      "memory usage: 57.2+ KB\n"
     ]
    }
   ],
   "source": [
    "#Verificamos un dataframe como ejemplo\n",
    "bitcoin_df.info()"
   ]
  },
  {
   "cell_type": "markdown",
   "metadata": {},
   "source": [
    "------------------------"
   ]
  },
  {
   "cell_type": "markdown",
   "metadata": {},
   "source": [
    "## **II. Transformación de los datos**\n",
    "- Las transformaciones consisten en los siguientes pasos para cada DF: \n",
    "    - Extraer los valores de timestamp, prices, volumes y marketcaps.\n",
    "    - Añadir una columna Id que contenga el id de la coin. \n",
    "    - Transformar a formato date la columna timestamp."
   ]
  },
  {
   "cell_type": "markdown",
   "metadata": {},
   "source": [
    "**DATOS GENERALES**"
   ]
  },
  {
   "cell_type": "code",
   "execution_count": 182,
   "metadata": {},
   "outputs": [],
   "source": [
    "#Cambiamos el nombre de las columnas\n",
    "coins.columns = ['Id', 'Symbol', 'Coin_Name']"
   ]
  },
  {
   "cell_type": "code",
   "execution_count": 183,
   "metadata": {},
   "outputs": [
    {
     "name": "stdout",
     "output_type": "stream",
     "text": [
      "<class 'pandas.core.frame.DataFrame'>\n",
      "Int64Index: 12 entries, 0 to 50\n",
      "Data columns (total 3 columns):\n",
      " #   Column     Non-Null Count  Dtype \n",
      "---  ------     --------------  ----- \n",
      " 0   Id         12 non-null     object\n",
      " 1   Symbol     12 non-null     object\n",
      " 2   Coin_Name  12 non-null     object\n",
      "dtypes: object(3)\n",
      "memory usage: 384.0+ bytes\n"
     ]
    }
   ],
   "source": [
    "coins.info()"
   ]
  },
  {
   "cell_type": "markdown",
   "metadata": {},
   "source": [
    "**BITCOIN**"
   ]
  },
  {
   "cell_type": "code",
   "execution_count": 122,
   "metadata": {},
   "outputs": [],
   "source": [
    "# Crear una nueva fila con el timestamp y los valores de cada métrica\n",
    "bitcoin_df['Data'] = bitcoin_df.apply(\n",
    "    lambda row: [row['prices'][0],row['prices'][1], row['total_volumes'][1], row['market_caps'][1]],\n",
    "    axis=1\n",
    ")\n",
    "\n",
    "# Crear un nuevo DataFrame con las columnas Id, Timestamp, Prices, Volumes,Valor_MarketCap\n",
    "new_columns = ['Timestamp', 'Prices', 'Volumes', 'Market_Cap']\n",
    "new_data = [list(row) for row in bitcoin_df['Data']]\n",
    "bitcoin_df = pd.DataFrame(new_data, columns=new_columns)\n",
    "bitcoin_df.insert(0, 'Id', 'bitcoin')"
   ]
  },
  {
   "cell_type": "code",
   "execution_count": 128,
   "metadata": {},
   "outputs": [],
   "source": [
    "# Cambiar el formato a fecha en la columna Timestamp\n",
    "bitcoin_df['Date'] = pd.to_datetime(bitcoin_df['Timestamp'], unit='ms')\n",
    "bitcoin_df.drop(columns = 'Timestamp', inplace = True)"
   ]
  },
  {
   "cell_type": "code",
   "execution_count": 129,
   "metadata": {},
   "outputs": [
    {
     "data": {
      "text/html": [
       "<div>\n",
       "<style scoped>\n",
       "    .dataframe tbody tr th:only-of-type {\n",
       "        vertical-align: middle;\n",
       "    }\n",
       "\n",
       "    .dataframe tbody tr th {\n",
       "        vertical-align: top;\n",
       "    }\n",
       "\n",
       "    .dataframe thead th {\n",
       "        text-align: right;\n",
       "    }\n",
       "</style>\n",
       "<table border=\"1\" class=\"dataframe\">\n",
       "  <thead>\n",
       "    <tr style=\"text-align: right;\">\n",
       "      <th></th>\n",
       "      <th>Id</th>\n",
       "      <th>Prices</th>\n",
       "      <th>Volumes</th>\n",
       "      <th>Market_Cap</th>\n",
       "      <th>Date</th>\n",
       "    </tr>\n",
       "  </thead>\n",
       "  <tbody>\n",
       "    <tr>\n",
       "      <th>0</th>\n",
       "      <td>bitcoin</td>\n",
       "      <td>6212.226040</td>\n",
       "      <td>7.179485e+09</td>\n",
       "      <td>1.069118e+11</td>\n",
       "      <td>2018-08-15</td>\n",
       "    </tr>\n",
       "    <tr>\n",
       "      <th>1</th>\n",
       "      <td>bitcoin</td>\n",
       "      <td>6267.768709</td>\n",
       "      <td>6.619548e+09</td>\n",
       "      <td>1.077888e+11</td>\n",
       "      <td>2018-08-16</td>\n",
       "    </tr>\n",
       "    <tr>\n",
       "      <th>2</th>\n",
       "      <td>bitcoin</td>\n",
       "      <td>6309.385226</td>\n",
       "      <td>5.982589e+09</td>\n",
       "      <td>1.085788e+11</td>\n",
       "      <td>2018-08-17</td>\n",
       "    </tr>\n",
       "    <tr>\n",
       "      <th>3</th>\n",
       "      <td>bitcoin</td>\n",
       "      <td>6566.715163</td>\n",
       "      <td>6.206194e+09</td>\n",
       "      <td>1.130186e+11</td>\n",
       "      <td>2018-08-18</td>\n",
       "    </tr>\n",
       "    <tr>\n",
       "      <th>4</th>\n",
       "      <td>bitcoin</td>\n",
       "      <td>6382.060591</td>\n",
       "      <td>5.616966e+09</td>\n",
       "      <td>1.098899e+11</td>\n",
       "      <td>2018-08-19</td>\n",
       "    </tr>\n",
       "  </tbody>\n",
       "</table>\n",
       "</div>"
      ],
      "text/plain": [
       "        Id       Prices       Volumes    Market_Cap       Date\n",
       "0  bitcoin  6212.226040  7.179485e+09  1.069118e+11 2018-08-15\n",
       "1  bitcoin  6267.768709  6.619548e+09  1.077888e+11 2018-08-16\n",
       "2  bitcoin  6309.385226  5.982589e+09  1.085788e+11 2018-08-17\n",
       "3  bitcoin  6566.715163  6.206194e+09  1.130186e+11 2018-08-18\n",
       "4  bitcoin  6382.060591  5.616966e+09  1.098899e+11 2018-08-19"
      ]
     },
     "execution_count": 129,
     "metadata": {},
     "output_type": "execute_result"
    }
   ],
   "source": [
    "bitcoin_df.head()"
   ]
  },
  {
   "cell_type": "markdown",
   "metadata": {},
   "source": [
    "**ETHEREUM**"
   ]
  },
  {
   "cell_type": "code",
   "execution_count": 131,
   "metadata": {},
   "outputs": [],
   "source": [
    "# Crear una nueva fila con el timestamp y los valores de cada métrica\n",
    "ethereum_df['Data'] = ethereum_df.apply(\n",
    "    lambda row: [row['prices'][0],row['prices'][1], row['total_volumes'][1], row['market_caps'][1]],\n",
    "    axis=1\n",
    ")\n",
    "\n",
    "# Crear un nuevo DataFrame con las columnas Id, Timestamp, Prices, Volumes,Valor_MarketCap\n",
    "new_columns = ['Timestamp', 'Prices', 'Volumes', 'Market_Cap']\n",
    "new_data = [list(row) for row in ethereum_df['Data']]\n",
    "ethereum_df = pd.DataFrame(new_data, columns=new_columns)\n",
    "ethereum_df.insert(0, 'Id', 'ethereum')"
   ]
  },
  {
   "cell_type": "code",
   "execution_count": 133,
   "metadata": {},
   "outputs": [],
   "source": [
    "# Cambiar el formato a fecha en la columna Timestamp\n",
    "ethereum_df['Date'] = pd.to_datetime(ethereum_df['Timestamp'], unit='ms')\n",
    "ethereum_df.drop(columns = 'Timestamp', inplace = True)"
   ]
  },
  {
   "cell_type": "code",
   "execution_count": 134,
   "metadata": {},
   "outputs": [
    {
     "data": {
      "text/html": [
       "<div>\n",
       "<style scoped>\n",
       "    .dataframe tbody tr th:only-of-type {\n",
       "        vertical-align: middle;\n",
       "    }\n",
       "\n",
       "    .dataframe tbody tr th {\n",
       "        vertical-align: top;\n",
       "    }\n",
       "\n",
       "    .dataframe thead th {\n",
       "        text-align: right;\n",
       "    }\n",
       "</style>\n",
       "<table border=\"1\" class=\"dataframe\">\n",
       "  <thead>\n",
       "    <tr style=\"text-align: right;\">\n",
       "      <th></th>\n",
       "      <th>Id</th>\n",
       "      <th>Prices</th>\n",
       "      <th>Volumes</th>\n",
       "      <th>Market_Cap</th>\n",
       "      <th>Date</th>\n",
       "    </tr>\n",
       "  </thead>\n",
       "  <tbody>\n",
       "    <tr>\n",
       "      <th>0</th>\n",
       "      <td>ethereum</td>\n",
       "      <td>277.746017</td>\n",
       "      <td>3.134795e+09</td>\n",
       "      <td>2.814378e+10</td>\n",
       "      <td>2018-08-15</td>\n",
       "    </tr>\n",
       "    <tr>\n",
       "      <th>1</th>\n",
       "      <td>ethereum</td>\n",
       "      <td>281.141193</td>\n",
       "      <td>2.818580e+09</td>\n",
       "      <td>2.845771e+10</td>\n",
       "      <td>2018-08-16</td>\n",
       "    </tr>\n",
       "    <tr>\n",
       "      <th>2</th>\n",
       "      <td>ethereum</td>\n",
       "      <td>286.320221</td>\n",
       "      <td>2.409323e+09</td>\n",
       "      <td>2.901377e+10</td>\n",
       "      <td>2018-08-17</td>\n",
       "    </tr>\n",
       "    <tr>\n",
       "      <th>3</th>\n",
       "      <td>ethereum</td>\n",
       "      <td>314.793253</td>\n",
       "      <td>2.930410e+09</td>\n",
       "      <td>3.190058e+10</td>\n",
       "      <td>2018-08-18</td>\n",
       "    </tr>\n",
       "    <tr>\n",
       "      <th>4</th>\n",
       "      <td>ethereum</td>\n",
       "      <td>293.176992</td>\n",
       "      <td>2.806352e+09</td>\n",
       "      <td>2.973165e+10</td>\n",
       "      <td>2018-08-19</td>\n",
       "    </tr>\n",
       "  </tbody>\n",
       "</table>\n",
       "</div>"
      ],
      "text/plain": [
       "         Id      Prices       Volumes    Market_Cap       Date\n",
       "0  ethereum  277.746017  3.134795e+09  2.814378e+10 2018-08-15\n",
       "1  ethereum  281.141193  2.818580e+09  2.845771e+10 2018-08-16\n",
       "2  ethereum  286.320221  2.409323e+09  2.901377e+10 2018-08-17\n",
       "3  ethereum  314.793253  2.930410e+09  3.190058e+10 2018-08-18\n",
       "4  ethereum  293.176992  2.806352e+09  2.973165e+10 2018-08-19"
      ]
     },
     "execution_count": 134,
     "metadata": {},
     "output_type": "execute_result"
    }
   ],
   "source": [
    "ethereum_df.head()"
   ]
  },
  {
   "cell_type": "markdown",
   "metadata": {},
   "source": [
    "**TETHER**"
   ]
  },
  {
   "cell_type": "code",
   "execution_count": 136,
   "metadata": {},
   "outputs": [],
   "source": [
    "# Crear una nueva fila con el timestamp y los valores de cada métrica\n",
    "tether_df['Data'] = tether_df.apply(\n",
    "    lambda row: [row['prices'][0],row['prices'][1], row['total_volumes'][1], row['market_caps'][1]],\n",
    "    axis=1\n",
    ")\n",
    "\n",
    "# Crear un nuevo DataFrame con las columnas Id, Timestamp, Prices, Volumes,Valor_MarketCap\n",
    "new_columns = ['Timestamp', 'Prices', 'Volumes', 'Market_Cap']\n",
    "new_data = [list(row) for row in tether_df['Data']]\n",
    "tether_df = pd.DataFrame(new_data, columns=new_columns)\n",
    "tether_df.insert(0, 'Id', 'tether')"
   ]
  },
  {
   "cell_type": "code",
   "execution_count": 137,
   "metadata": {},
   "outputs": [],
   "source": [
    "# Cambiar el formato a fecha en la columna Timestamp\n",
    "tether_df['Date'] = pd.to_datetime(tether_df['Timestamp'], unit='ms')\n",
    "tether_df.drop(columns = 'Timestamp', inplace = True)"
   ]
  },
  {
   "cell_type": "code",
   "execution_count": 138,
   "metadata": {},
   "outputs": [
    {
     "data": {
      "text/html": [
       "<div>\n",
       "<style scoped>\n",
       "    .dataframe tbody tr th:only-of-type {\n",
       "        vertical-align: middle;\n",
       "    }\n",
       "\n",
       "    .dataframe tbody tr th {\n",
       "        vertical-align: top;\n",
       "    }\n",
       "\n",
       "    .dataframe thead th {\n",
       "        text-align: right;\n",
       "    }\n",
       "</style>\n",
       "<table border=\"1\" class=\"dataframe\">\n",
       "  <thead>\n",
       "    <tr style=\"text-align: right;\">\n",
       "      <th></th>\n",
       "      <th>Id</th>\n",
       "      <th>Prices</th>\n",
       "      <th>Volumes</th>\n",
       "      <th>Market_Cap</th>\n",
       "      <th>Date</th>\n",
       "    </tr>\n",
       "  </thead>\n",
       "  <tbody>\n",
       "    <tr>\n",
       "      <th>0</th>\n",
       "      <td>tether</td>\n",
       "      <td>1.003787</td>\n",
       "      <td>9.853164e+07</td>\n",
       "      <td>2.447323e+09</td>\n",
       "      <td>2018-08-15</td>\n",
       "    </tr>\n",
       "    <tr>\n",
       "      <th>1</th>\n",
       "      <td>tether</td>\n",
       "      <td>1.000076</td>\n",
       "      <td>1.096754e+08</td>\n",
       "      <td>2.434993e+09</td>\n",
       "      <td>2018-08-16</td>\n",
       "    </tr>\n",
       "    <tr>\n",
       "      <th>2</th>\n",
       "      <td>tether</td>\n",
       "      <td>0.986833</td>\n",
       "      <td>1.042327e+08</td>\n",
       "      <td>2.405948e+09</td>\n",
       "      <td>2018-08-17</td>\n",
       "    </tr>\n",
       "    <tr>\n",
       "      <th>3</th>\n",
       "      <td>tether</td>\n",
       "      <td>0.998589</td>\n",
       "      <td>6.926751e+07</td>\n",
       "      <td>2.433498e+09</td>\n",
       "      <td>2018-08-18</td>\n",
       "    </tr>\n",
       "    <tr>\n",
       "      <th>4</th>\n",
       "      <td>tether</td>\n",
       "      <td>1.000052</td>\n",
       "      <td>9.200243e+07</td>\n",
       "      <td>2.439015e+09</td>\n",
       "      <td>2018-08-19</td>\n",
       "    </tr>\n",
       "  </tbody>\n",
       "</table>\n",
       "</div>"
      ],
      "text/plain": [
       "       Id    Prices       Volumes    Market_Cap       Date\n",
       "0  tether  1.003787  9.853164e+07  2.447323e+09 2018-08-15\n",
       "1  tether  1.000076  1.096754e+08  2.434993e+09 2018-08-16\n",
       "2  tether  0.986833  1.042327e+08  2.405948e+09 2018-08-17\n",
       "3  tether  0.998589  6.926751e+07  2.433498e+09 2018-08-18\n",
       "4  tether  1.000052  9.200243e+07  2.439015e+09 2018-08-19"
      ]
     },
     "execution_count": 138,
     "metadata": {},
     "output_type": "execute_result"
    }
   ],
   "source": [
    "tether_df.head()"
   ]
  },
  {
   "cell_type": "markdown",
   "metadata": {},
   "source": [
    "**BINANCE COIN**"
   ]
  },
  {
   "cell_type": "code",
   "execution_count": 140,
   "metadata": {},
   "outputs": [],
   "source": [
    "# Crear una nueva fila con el timestamp y los valores de cada métrica\n",
    "binancecoin_df['Data'] = binancecoin_df.apply(\n",
    "    lambda row: [row['prices'][0],row['prices'][1], row['total_volumes'][1], row['market_caps'][1]],\n",
    "    axis=1\n",
    ")\n",
    "\n",
    "# Crear un nuevo DataFrame con las columnas Id, Timestamp, Prices, Volumes,Valor_MarketCap\n",
    "new_columns = ['Timestamp', 'Prices', 'Volumes', 'Market_Cap']\n",
    "new_data = [list(row) for row in binancecoin_df['Data']]\n",
    "binancecoin_df = pd.DataFrame(new_data, columns=new_columns)\n",
    "binancecoin_df.insert(0, 'Id', 'binancecoin')"
   ]
  },
  {
   "cell_type": "code",
   "execution_count": 141,
   "metadata": {},
   "outputs": [],
   "source": [
    "# Cambiar el formato a fecha en la columna Timestamp\n",
    "binancecoin_df['Date'] = pd.to_datetime(binancecoin_df['Timestamp'], unit='ms')\n",
    "binancecoin_df.drop(columns = 'Timestamp', inplace = True)"
   ]
  },
  {
   "cell_type": "code",
   "execution_count": 142,
   "metadata": {},
   "outputs": [
    {
     "data": {
      "text/html": [
       "<div>\n",
       "<style scoped>\n",
       "    .dataframe tbody tr th:only-of-type {\n",
       "        vertical-align: middle;\n",
       "    }\n",
       "\n",
       "    .dataframe tbody tr th {\n",
       "        vertical-align: top;\n",
       "    }\n",
       "\n",
       "    .dataframe thead th {\n",
       "        text-align: right;\n",
       "    }\n",
       "</style>\n",
       "<table border=\"1\" class=\"dataframe\">\n",
       "  <thead>\n",
       "    <tr style=\"text-align: right;\">\n",
       "      <th></th>\n",
       "      <th>Id</th>\n",
       "      <th>Prices</th>\n",
       "      <th>Volumes</th>\n",
       "      <th>Market_Cap</th>\n",
       "      <th>Date</th>\n",
       "    </tr>\n",
       "  </thead>\n",
       "  <tbody>\n",
       "    <tr>\n",
       "      <th>0</th>\n",
       "      <td>binancecoin</td>\n",
       "      <td>9.449202</td>\n",
       "      <td>3.622425e+07</td>\n",
       "      <td>9.264119e+08</td>\n",
       "      <td>2018-08-15</td>\n",
       "    </tr>\n",
       "    <tr>\n",
       "      <th>1</th>\n",
       "      <td>binancecoin</td>\n",
       "      <td>9.418463</td>\n",
       "      <td>4.158557e+07</td>\n",
       "      <td>9.211864e+08</td>\n",
       "      <td>2018-08-16</td>\n",
       "    </tr>\n",
       "    <tr>\n",
       "      <th>2</th>\n",
       "      <td>binancecoin</td>\n",
       "      <td>9.730853</td>\n",
       "      <td>2.259454e+07</td>\n",
       "      <td>9.538507e+08</td>\n",
       "      <td>2018-08-17</td>\n",
       "    </tr>\n",
       "    <tr>\n",
       "      <th>3</th>\n",
       "      <td>binancecoin</td>\n",
       "      <td>10.751076</td>\n",
       "      <td>3.355559e+07</td>\n",
       "      <td>1.053876e+09</td>\n",
       "      <td>2018-08-18</td>\n",
       "    </tr>\n",
       "    <tr>\n",
       "      <th>4</th>\n",
       "      <td>binancecoin</td>\n",
       "      <td>9.860936</td>\n",
       "      <td>2.565619e+07</td>\n",
       "      <td>9.668749e+08</td>\n",
       "      <td>2018-08-19</td>\n",
       "    </tr>\n",
       "  </tbody>\n",
       "</table>\n",
       "</div>"
      ],
      "text/plain": [
       "            Id     Prices       Volumes    Market_Cap       Date\n",
       "0  binancecoin   9.449202  3.622425e+07  9.264119e+08 2018-08-15\n",
       "1  binancecoin   9.418463  4.158557e+07  9.211864e+08 2018-08-16\n",
       "2  binancecoin   9.730853  2.259454e+07  9.538507e+08 2018-08-17\n",
       "3  binancecoin  10.751076  3.355559e+07  1.053876e+09 2018-08-18\n",
       "4  binancecoin   9.860936  2.565619e+07  9.668749e+08 2018-08-19"
      ]
     },
     "execution_count": 142,
     "metadata": {},
     "output_type": "execute_result"
    }
   ],
   "source": [
    "binancecoin_df.head()"
   ]
  },
  {
   "cell_type": "markdown",
   "metadata": {},
   "source": [
    "**RIPPLE**"
   ]
  },
  {
   "cell_type": "code",
   "execution_count": 144,
   "metadata": {},
   "outputs": [],
   "source": [
    "# Crear una nueva fila con el timestamp y los valores de cada métrica\n",
    "ripple_df['Data'] = ripple_df.apply(\n",
    "    lambda row: [row['prices'][0],row['prices'][1], row['total_volumes'][1], row['market_caps'][1]],\n",
    "    axis=1\n",
    ")\n",
    "\n",
    "# Crear un nuevo DataFrame con las columnas Id, Timestamp, Prices, Volumes,Valor_MarketCap\n",
    "new_columns = ['Timestamp', 'Prices', 'Volumes', 'Market_Cap']\n",
    "new_data = [list(row) for row in ripple_df['Data']]\n",
    "ripple_df = pd.DataFrame(new_data, columns=new_columns)\n",
    "ripple_df.insert(0, 'Id', 'ripple')"
   ]
  },
  {
   "cell_type": "code",
   "execution_count": 145,
   "metadata": {},
   "outputs": [],
   "source": [
    "# Cambiar el formato a fecha en la columna Timestamp\n",
    "ripple_df['Date'] = pd.to_datetime(ripple_df['Timestamp'], unit='ms')\n",
    "ripple_df.drop(columns = 'Timestamp', inplace = True)"
   ]
  },
  {
   "cell_type": "code",
   "execution_count": 146,
   "metadata": {},
   "outputs": [
    {
     "data": {
      "text/html": [
       "<div>\n",
       "<style scoped>\n",
       "    .dataframe tbody tr th:only-of-type {\n",
       "        vertical-align: middle;\n",
       "    }\n",
       "\n",
       "    .dataframe tbody tr th {\n",
       "        vertical-align: top;\n",
       "    }\n",
       "\n",
       "    .dataframe thead th {\n",
       "        text-align: right;\n",
       "    }\n",
       "</style>\n",
       "<table border=\"1\" class=\"dataframe\">\n",
       "  <thead>\n",
       "    <tr style=\"text-align: right;\">\n",
       "      <th></th>\n",
       "      <th>Id</th>\n",
       "      <th>Prices</th>\n",
       "      <th>Volumes</th>\n",
       "      <th>Market_Cap</th>\n",
       "      <th>Date</th>\n",
       "    </tr>\n",
       "  </thead>\n",
       "  <tbody>\n",
       "    <tr>\n",
       "      <th>0</th>\n",
       "      <td>ripple</td>\n",
       "      <td>0.273937</td>\n",
       "      <td>2.967558e+08</td>\n",
       "      <td>1.078554e+10</td>\n",
       "      <td>2018-08-15</td>\n",
       "    </tr>\n",
       "    <tr>\n",
       "      <th>1</th>\n",
       "      <td>ripple</td>\n",
       "      <td>0.281680</td>\n",
       "      <td>3.408424e+08</td>\n",
       "      <td>1.106011e+10</td>\n",
       "      <td>2018-08-16</td>\n",
       "    </tr>\n",
       "    <tr>\n",
       "      <th>2</th>\n",
       "      <td>ripple</td>\n",
       "      <td>0.292357</td>\n",
       "      <td>2.449694e+08</td>\n",
       "      <td>1.150398e+10</td>\n",
       "      <td>2018-08-17</td>\n",
       "    </tr>\n",
       "    <tr>\n",
       "      <th>3</th>\n",
       "      <td>ripple</td>\n",
       "      <td>0.365943</td>\n",
       "      <td>5.258470e+08</td>\n",
       "      <td>1.439222e+10</td>\n",
       "      <td>2018-08-18</td>\n",
       "    </tr>\n",
       "    <tr>\n",
       "      <th>4</th>\n",
       "      <td>ripple</td>\n",
       "      <td>0.326364</td>\n",
       "      <td>4.447622e+08</td>\n",
       "      <td>1.284835e+10</td>\n",
       "      <td>2018-08-19</td>\n",
       "    </tr>\n",
       "  </tbody>\n",
       "</table>\n",
       "</div>"
      ],
      "text/plain": [
       "       Id    Prices       Volumes    Market_Cap       Date\n",
       "0  ripple  0.273937  2.967558e+08  1.078554e+10 2018-08-15\n",
       "1  ripple  0.281680  3.408424e+08  1.106011e+10 2018-08-16\n",
       "2  ripple  0.292357  2.449694e+08  1.150398e+10 2018-08-17\n",
       "3  ripple  0.365943  5.258470e+08  1.439222e+10 2018-08-18\n",
       "4  ripple  0.326364  4.447622e+08  1.284835e+10 2018-08-19"
      ]
     },
     "execution_count": 146,
     "metadata": {},
     "output_type": "execute_result"
    }
   ],
   "source": [
    "ripple_df.head()"
   ]
  },
  {
   "cell_type": "markdown",
   "metadata": {},
   "source": [
    "**USD-COIN**"
   ]
  },
  {
   "cell_type": "code",
   "execution_count": 148,
   "metadata": {},
   "outputs": [],
   "source": [
    "# Crear una nueva fila con el timestamp y los valores de cada métrica\n",
    "usdcoin_df['Data'] = usdcoin_df.apply(\n",
    "    lambda row: [row['prices'][0],row['prices'][1], row['total_volumes'][1], row['market_caps'][1]],\n",
    "    axis=1\n",
    ")\n",
    "\n",
    "# Crear un nuevo DataFrame con las columnas Id, Timestamp, Prices, Volumes,Valor_MarketCap\n",
    "new_columns = ['Timestamp', 'Prices', 'Volumes', 'Market_Cap']\n",
    "new_data = [list(row) for row in usdcoin_df['Data']]\n",
    "usdcoin_df = pd.DataFrame(new_data, columns=new_columns)\n",
    "usdcoin_df.insert(0, 'Id', 'usd-coin')"
   ]
  },
  {
   "cell_type": "code",
   "execution_count": 149,
   "metadata": {},
   "outputs": [],
   "source": [
    "# Cambiar el formato a fecha en la columna Timestamp\n",
    "usdcoin_df['Date'] = pd.to_datetime(usdcoin_df['Timestamp'], unit='ms')\n",
    "usdcoin_df.drop(columns = 'Timestamp', inplace = True)"
   ]
  },
  {
   "cell_type": "code",
   "execution_count": 150,
   "metadata": {},
   "outputs": [
    {
     "data": {
      "text/html": [
       "<div>\n",
       "<style scoped>\n",
       "    .dataframe tbody tr th:only-of-type {\n",
       "        vertical-align: middle;\n",
       "    }\n",
       "\n",
       "    .dataframe tbody tr th {\n",
       "        vertical-align: top;\n",
       "    }\n",
       "\n",
       "    .dataframe thead th {\n",
       "        text-align: right;\n",
       "    }\n",
       "</style>\n",
       "<table border=\"1\" class=\"dataframe\">\n",
       "  <thead>\n",
       "    <tr style=\"text-align: right;\">\n",
       "      <th></th>\n",
       "      <th>Id</th>\n",
       "      <th>Prices</th>\n",
       "      <th>Volumes</th>\n",
       "      <th>Market_Cap</th>\n",
       "      <th>Date</th>\n",
       "    </tr>\n",
       "  </thead>\n",
       "  <tbody>\n",
       "    <tr>\n",
       "      <th>0</th>\n",
       "      <td>usd-coin</td>\n",
       "      <td>1.006242</td>\n",
       "      <td>31264.420430</td>\n",
       "      <td>0.0</td>\n",
       "      <td>2018-10-05</td>\n",
       "    </tr>\n",
       "    <tr>\n",
       "      <th>1</th>\n",
       "      <td>usd-coin</td>\n",
       "      <td>1.001530</td>\n",
       "      <td>20254.712255</td>\n",
       "      <td>0.0</td>\n",
       "      <td>2018-10-06</td>\n",
       "    </tr>\n",
       "    <tr>\n",
       "      <th>2</th>\n",
       "      <td>usd-coin</td>\n",
       "      <td>1.001177</td>\n",
       "      <td>49324.690669</td>\n",
       "      <td>0.0</td>\n",
       "      <td>2018-10-07</td>\n",
       "    </tr>\n",
       "    <tr>\n",
       "      <th>3</th>\n",
       "      <td>usd-coin</td>\n",
       "      <td>1.001906</td>\n",
       "      <td>47076.728142</td>\n",
       "      <td>0.0</td>\n",
       "      <td>2018-10-08</td>\n",
       "    </tr>\n",
       "    <tr>\n",
       "      <th>4</th>\n",
       "      <td>usd-coin</td>\n",
       "      <td>1.001983</td>\n",
       "      <td>55542.215509</td>\n",
       "      <td>0.0</td>\n",
       "      <td>2018-10-09</td>\n",
       "    </tr>\n",
       "  </tbody>\n",
       "</table>\n",
       "</div>"
      ],
      "text/plain": [
       "         Id    Prices       Volumes  Market_Cap       Date\n",
       "0  usd-coin  1.006242  31264.420430         0.0 2018-10-05\n",
       "1  usd-coin  1.001530  20254.712255         0.0 2018-10-06\n",
       "2  usd-coin  1.001177  49324.690669         0.0 2018-10-07\n",
       "3  usd-coin  1.001906  47076.728142         0.0 2018-10-08\n",
       "4  usd-coin  1.001983  55542.215509         0.0 2018-10-09"
      ]
     },
     "execution_count": 150,
     "metadata": {},
     "output_type": "execute_result"
    }
   ],
   "source": [
    "usdcoin_df.head()"
   ]
  },
  {
   "cell_type": "markdown",
   "metadata": {},
   "source": [
    "**STAKED-ETHER**"
   ]
  },
  {
   "cell_type": "code",
   "execution_count": 152,
   "metadata": {},
   "outputs": [],
   "source": [
    "# Crear una nueva fila con el timestamp y los valores de cada métrica\n",
    "stakedether_df['Data'] = stakedether_df.apply(\n",
    "    lambda row: [row['prices'][0],row['prices'][1], row['total_volumes'][1], row['market_caps'][1]],\n",
    "    axis=1\n",
    ")\n",
    "\n",
    "# Crear un nuevo DataFrame con las columnas Id, Timestamp, Prices, Volumes,Valor_MarketCap\n",
    "new_columns = ['Timestamp', 'Prices', 'Volumes', 'Market_Cap']\n",
    "new_data = [list(row) for row in stakedether_df['Data']]\n",
    "stakedether_df = pd.DataFrame(new_data, columns=new_columns)\n",
    "stakedether_df.insert(0, 'Id', 'staked-ether')"
   ]
  },
  {
   "cell_type": "code",
   "execution_count": 153,
   "metadata": {},
   "outputs": [],
   "source": [
    "# Cambiar el formato a fecha en la columna Timestamp\n",
    "stakedether_df['Date'] = pd.to_datetime(stakedether_df['Timestamp'], unit='ms')\n",
    "stakedether_df.drop(columns = 'Timestamp', inplace = True)"
   ]
  },
  {
   "cell_type": "code",
   "execution_count": 154,
   "metadata": {},
   "outputs": [
    {
     "data": {
      "text/html": [
       "<div>\n",
       "<style scoped>\n",
       "    .dataframe tbody tr th:only-of-type {\n",
       "        vertical-align: middle;\n",
       "    }\n",
       "\n",
       "    .dataframe tbody tr th {\n",
       "        vertical-align: top;\n",
       "    }\n",
       "\n",
       "    .dataframe thead th {\n",
       "        text-align: right;\n",
       "    }\n",
       "</style>\n",
       "<table border=\"1\" class=\"dataframe\">\n",
       "  <thead>\n",
       "    <tr style=\"text-align: right;\">\n",
       "      <th></th>\n",
       "      <th>Id</th>\n",
       "      <th>Prices</th>\n",
       "      <th>Volumes</th>\n",
       "      <th>Market_Cap</th>\n",
       "      <th>Date</th>\n",
       "    </tr>\n",
       "  </thead>\n",
       "  <tbody>\n",
       "    <tr>\n",
       "      <th>0</th>\n",
       "      <td>staked-ether</td>\n",
       "      <td>617.164997</td>\n",
       "      <td>137563.026557</td>\n",
       "      <td>0.000000e+00</td>\n",
       "      <td>2020-12-22</td>\n",
       "    </tr>\n",
       "    <tr>\n",
       "      <th>1</th>\n",
       "      <td>staked-ether</td>\n",
       "      <td>617.164997</td>\n",
       "      <td>137563.026557</td>\n",
       "      <td>0.000000e+00</td>\n",
       "      <td>2020-12-23</td>\n",
       "    </tr>\n",
       "    <tr>\n",
       "      <th>2</th>\n",
       "      <td>staked-ether</td>\n",
       "      <td>596.767711</td>\n",
       "      <td>67102.259216</td>\n",
       "      <td>4.424223e+06</td>\n",
       "      <td>2020-12-24</td>\n",
       "    </tr>\n",
       "    <tr>\n",
       "      <th>3</th>\n",
       "      <td>staked-ether</td>\n",
       "      <td>611.504712</td>\n",
       "      <td>54336.794215</td>\n",
       "      <td>5.651613e+06</td>\n",
       "      <td>2020-12-25</td>\n",
       "    </tr>\n",
       "    <tr>\n",
       "      <th>4</th>\n",
       "      <td>staked-ether</td>\n",
       "      <td>624.800420</td>\n",
       "      <td>45933.064541</td>\n",
       "      <td>7.284744e+06</td>\n",
       "      <td>2020-12-26</td>\n",
       "    </tr>\n",
       "  </tbody>\n",
       "</table>\n",
       "</div>"
      ],
      "text/plain": [
       "             Id      Prices        Volumes    Market_Cap       Date\n",
       "0  staked-ether  617.164997  137563.026557  0.000000e+00 2020-12-22\n",
       "1  staked-ether  617.164997  137563.026557  0.000000e+00 2020-12-23\n",
       "2  staked-ether  596.767711   67102.259216  4.424223e+06 2020-12-24\n",
       "3  staked-ether  611.504712   54336.794215  5.651613e+06 2020-12-25\n",
       "4  staked-ether  624.800420   45933.064541  7.284744e+06 2020-12-26"
      ]
     },
     "execution_count": 154,
     "metadata": {},
     "output_type": "execute_result"
    }
   ],
   "source": [
    "stakedether_df.head()"
   ]
  },
  {
   "cell_type": "markdown",
   "metadata": {},
   "source": [
    "**CARDANO**"
   ]
  },
  {
   "cell_type": "code",
   "execution_count": 157,
   "metadata": {},
   "outputs": [],
   "source": [
    "# Crear una nueva fila con el timestamp y los valores de cada métrica\n",
    "cardano_df['Data'] = cardano_df.apply(\n",
    "    lambda row: [row['prices'][0],row['prices'][1], row['total_volumes'][1], row['market_caps'][1]],\n",
    "    axis=1\n",
    ")\n",
    "\n",
    "# Crear un nuevo DataFrame con las columnas Id, Timestamp, Prices, Volumes,Valor_MarketCap\n",
    "new_columns = ['Timestamp', 'Prices', 'Volumes', 'Market_Cap']\n",
    "new_data = [list(row) for row in cardano_df['Data']]\n",
    "cardano_df = pd.DataFrame(new_data, columns=new_columns)\n",
    "cardano_df.insert(0, 'Id', 'cardano')"
   ]
  },
  {
   "cell_type": "code",
   "execution_count": 158,
   "metadata": {},
   "outputs": [],
   "source": [
    "# Cambiar el formato a fecha en la columna Timestamp\n",
    "cardano_df['Date'] = pd.to_datetime(cardano_df['Timestamp'], unit='ms')\n",
    "cardano_df.drop(columns = 'Timestamp', inplace = True)"
   ]
  },
  {
   "cell_type": "code",
   "execution_count": 159,
   "metadata": {},
   "outputs": [
    {
     "data": {
      "text/html": [
       "<div>\n",
       "<style scoped>\n",
       "    .dataframe tbody tr th:only-of-type {\n",
       "        vertical-align: middle;\n",
       "    }\n",
       "\n",
       "    .dataframe tbody tr th {\n",
       "        vertical-align: top;\n",
       "    }\n",
       "\n",
       "    .dataframe thead th {\n",
       "        text-align: right;\n",
       "    }\n",
       "</style>\n",
       "<table border=\"1\" class=\"dataframe\">\n",
       "  <thead>\n",
       "    <tr style=\"text-align: right;\">\n",
       "      <th></th>\n",
       "      <th>Id</th>\n",
       "      <th>Prices</th>\n",
       "      <th>Volumes</th>\n",
       "      <th>Market_Cap</th>\n",
       "      <th>Date</th>\n",
       "    </tr>\n",
       "  </thead>\n",
       "  <tbody>\n",
       "    <tr>\n",
       "      <th>0</th>\n",
       "      <td>cardano</td>\n",
       "      <td>0.094587</td>\n",
       "      <td>1.412652e+08</td>\n",
       "      <td>2.942845e+09</td>\n",
       "      <td>2018-08-15</td>\n",
       "    </tr>\n",
       "    <tr>\n",
       "      <th>1</th>\n",
       "      <td>cardano</td>\n",
       "      <td>0.094590</td>\n",
       "      <td>1.072624e+08</td>\n",
       "      <td>2.935687e+09</td>\n",
       "      <td>2018-08-16</td>\n",
       "    </tr>\n",
       "    <tr>\n",
       "      <th>2</th>\n",
       "      <td>cardano</td>\n",
       "      <td>0.095164</td>\n",
       "      <td>5.752800e+07</td>\n",
       "      <td>2.960109e+09</td>\n",
       "      <td>2018-08-17</td>\n",
       "    </tr>\n",
       "    <tr>\n",
       "      <th>3</th>\n",
       "      <td>cardano</td>\n",
       "      <td>0.109913</td>\n",
       "      <td>1.186935e+08</td>\n",
       "      <td>3.419660e+09</td>\n",
       "      <td>2018-08-18</td>\n",
       "    </tr>\n",
       "    <tr>\n",
       "      <th>4</th>\n",
       "      <td>cardano</td>\n",
       "      <td>0.099657</td>\n",
       "      <td>1.093238e+08</td>\n",
       "      <td>3.100563e+09</td>\n",
       "      <td>2018-08-19</td>\n",
       "    </tr>\n",
       "  </tbody>\n",
       "</table>\n",
       "</div>"
      ],
      "text/plain": [
       "        Id    Prices       Volumes    Market_Cap       Date\n",
       "0  cardano  0.094587  1.412652e+08  2.942845e+09 2018-08-15\n",
       "1  cardano  0.094590  1.072624e+08  2.935687e+09 2018-08-16\n",
       "2  cardano  0.095164  5.752800e+07  2.960109e+09 2018-08-17\n",
       "3  cardano  0.109913  1.186935e+08  3.419660e+09 2018-08-18\n",
       "4  cardano  0.099657  1.093238e+08  3.100563e+09 2018-08-19"
      ]
     },
     "execution_count": 159,
     "metadata": {},
     "output_type": "execute_result"
    }
   ],
   "source": [
    "cardano_df.head()"
   ]
  },
  {
   "cell_type": "markdown",
   "metadata": {},
   "source": [
    "**SOLANA**"
   ]
  },
  {
   "cell_type": "code",
   "execution_count": 162,
   "metadata": {},
   "outputs": [],
   "source": [
    "# Crear una nueva fila con el timestamp y los valores de cada métrica\n",
    "solana_df['Data'] = solana_df.apply(\n",
    "    lambda row: [row['prices'][0],row['prices'][1], row['total_volumes'][1], row['market_caps'][1]],\n",
    "    axis=1\n",
    ")\n",
    "\n",
    "# Crear un nuevo DataFrame con las columnas Id, Timestamp, Prices, Volumes,Valor_MarketCap\n",
    "new_columns = ['Timestamp', 'Prices', 'Volumes', 'Market_Cap']\n",
    "new_data = [list(row) for row in solana_df['Data']]\n",
    "solana_df = pd.DataFrame(new_data, columns=new_columns)\n",
    "solana_df.insert(0, 'Id', 'solana')"
   ]
  },
  {
   "cell_type": "code",
   "execution_count": 163,
   "metadata": {},
   "outputs": [],
   "source": [
    "# Cambiar el formato a fecha en la columna Timestamp\n",
    "solana_df['Date'] = pd.to_datetime(solana_df['Timestamp'], unit='ms')\n",
    "solana_df.drop(columns = 'Timestamp', inplace = True)"
   ]
  },
  {
   "cell_type": "code",
   "execution_count": 164,
   "metadata": {},
   "outputs": [
    {
     "data": {
      "text/html": [
       "<div>\n",
       "<style scoped>\n",
       "    .dataframe tbody tr th:only-of-type {\n",
       "        vertical-align: middle;\n",
       "    }\n",
       "\n",
       "    .dataframe tbody tr th {\n",
       "        vertical-align: top;\n",
       "    }\n",
       "\n",
       "    .dataframe thead th {\n",
       "        text-align: right;\n",
       "    }\n",
       "</style>\n",
       "<table border=\"1\" class=\"dataframe\">\n",
       "  <thead>\n",
       "    <tr style=\"text-align: right;\">\n",
       "      <th></th>\n",
       "      <th>Id</th>\n",
       "      <th>Prices</th>\n",
       "      <th>Volumes</th>\n",
       "      <th>Market_Cap</th>\n",
       "      <th>Date</th>\n",
       "    </tr>\n",
       "  </thead>\n",
       "  <tbody>\n",
       "    <tr>\n",
       "      <th>0</th>\n",
       "      <td>solana</td>\n",
       "      <td>0.957606</td>\n",
       "      <td>9.267267e+07</td>\n",
       "      <td>7.827652e+06</td>\n",
       "      <td>2020-04-11</td>\n",
       "    </tr>\n",
       "    <tr>\n",
       "      <th>1</th>\n",
       "      <td>solana</td>\n",
       "      <td>0.784711</td>\n",
       "      <td>4.945869e+07</td>\n",
       "      <td>6.173608e+06</td>\n",
       "      <td>2020-04-12</td>\n",
       "    </tr>\n",
       "    <tr>\n",
       "      <th>2</th>\n",
       "      <td>solana</td>\n",
       "      <td>0.875994</td>\n",
       "      <td>3.782101e+07</td>\n",
       "      <td>7.269680e+06</td>\n",
       "      <td>2020-04-13</td>\n",
       "    </tr>\n",
       "    <tr>\n",
       "      <th>3</th>\n",
       "      <td>solana</td>\n",
       "      <td>0.786712</td>\n",
       "      <td>1.957921e+07</td>\n",
       "      <td>6.302364e+06</td>\n",
       "      <td>2020-04-14</td>\n",
       "    </tr>\n",
       "    <tr>\n",
       "      <th>4</th>\n",
       "      <td>solana</td>\n",
       "      <td>0.666673</td>\n",
       "      <td>1.752353e+07</td>\n",
       "      <td>5.306221e+06</td>\n",
       "      <td>2020-04-15</td>\n",
       "    </tr>\n",
       "  </tbody>\n",
       "</table>\n",
       "</div>"
      ],
      "text/plain": [
       "       Id    Prices       Volumes    Market_Cap       Date\n",
       "0  solana  0.957606  9.267267e+07  7.827652e+06 2020-04-11\n",
       "1  solana  0.784711  4.945869e+07  6.173608e+06 2020-04-12\n",
       "2  solana  0.875994  3.782101e+07  7.269680e+06 2020-04-13\n",
       "3  solana  0.786712  1.957921e+07  6.302364e+06 2020-04-14\n",
       "4  solana  0.666673  1.752353e+07  5.306221e+06 2020-04-15"
      ]
     },
     "execution_count": 164,
     "metadata": {},
     "output_type": "execute_result"
    }
   ],
   "source": [
    "solana_df.head()"
   ]
  },
  {
   "cell_type": "markdown",
   "metadata": {},
   "source": [
    "**DOGECOIN**"
   ]
  },
  {
   "cell_type": "code",
   "execution_count": 167,
   "metadata": {},
   "outputs": [],
   "source": [
    "# Crear una nueva fila con el timestamp y los valores de cada métrica\n",
    "dogecoin_df['Data'] = dogecoin_df.apply(\n",
    "    lambda row: [row['prices'][0],row['prices'][1], row['total_volumes'][1], row['market_caps'][1]],\n",
    "    axis=1\n",
    ")\n",
    "\n",
    "# Crear un nuevo DataFrame con las columnas Id, Timestamp, Prices, Volumes,Valor_MarketCap\n",
    "new_columns = ['Timestamp', 'Prices', 'Volumes', 'Market_Cap']\n",
    "new_data = [list(row) for row in dogecoin_df['Data']]\n",
    "dogecoin_df = pd.DataFrame(new_data, columns=new_columns)\n",
    "dogecoin_df.insert(0, 'Id', 'dogecoin')"
   ]
  },
  {
   "cell_type": "code",
   "execution_count": 168,
   "metadata": {},
   "outputs": [],
   "source": [
    "# Cambiar el formato a fecha en la columna Timestamp\n",
    "dogecoin_df['Date'] = pd.to_datetime(dogecoin_df['Timestamp'], unit='ms')\n",
    "dogecoin_df.drop(columns = 'Timestamp', inplace = True)"
   ]
  },
  {
   "cell_type": "code",
   "execution_count": 169,
   "metadata": {},
   "outputs": [
    {
     "data": {
      "text/html": [
       "<div>\n",
       "<style scoped>\n",
       "    .dataframe tbody tr th:only-of-type {\n",
       "        vertical-align: middle;\n",
       "    }\n",
       "\n",
       "    .dataframe tbody tr th {\n",
       "        vertical-align: top;\n",
       "    }\n",
       "\n",
       "    .dataframe thead th {\n",
       "        text-align: right;\n",
       "    }\n",
       "</style>\n",
       "<table border=\"1\" class=\"dataframe\">\n",
       "  <thead>\n",
       "    <tr style=\"text-align: right;\">\n",
       "      <th></th>\n",
       "      <th>Id</th>\n",
       "      <th>Prices</th>\n",
       "      <th>Volumes</th>\n",
       "      <th>Market_Cap</th>\n",
       "      <th>Date</th>\n",
       "    </tr>\n",
       "  </thead>\n",
       "  <tbody>\n",
       "    <tr>\n",
       "      <th>0</th>\n",
       "      <td>dogecoin</td>\n",
       "      <td>0.002258</td>\n",
       "      <td>1.018640e+07</td>\n",
       "      <td>2.612948e+08</td>\n",
       "      <td>2018-08-15</td>\n",
       "    </tr>\n",
       "    <tr>\n",
       "      <th>1</th>\n",
       "      <td>dogecoin</td>\n",
       "      <td>0.002307</td>\n",
       "      <td>4.062750e+06</td>\n",
       "      <td>2.669251e+08</td>\n",
       "      <td>2018-08-16</td>\n",
       "    </tr>\n",
       "    <tr>\n",
       "      <th>2</th>\n",
       "      <td>dogecoin</td>\n",
       "      <td>0.002316</td>\n",
       "      <td>5.509242e+06</td>\n",
       "      <td>2.648706e+08</td>\n",
       "      <td>2018-08-17</td>\n",
       "    </tr>\n",
       "    <tr>\n",
       "      <th>3</th>\n",
       "      <td>dogecoin</td>\n",
       "      <td>0.002496</td>\n",
       "      <td>4.174969e+06</td>\n",
       "      <td>2.890354e+08</td>\n",
       "      <td>2018-08-18</td>\n",
       "    </tr>\n",
       "    <tr>\n",
       "      <th>4</th>\n",
       "      <td>dogecoin</td>\n",
       "      <td>0.002404</td>\n",
       "      <td>8.131350e+06</td>\n",
       "      <td>2.781876e+08</td>\n",
       "      <td>2018-08-19</td>\n",
       "    </tr>\n",
       "  </tbody>\n",
       "</table>\n",
       "</div>"
      ],
      "text/plain": [
       "         Id    Prices       Volumes    Market_Cap       Date\n",
       "0  dogecoin  0.002258  1.018640e+07  2.612948e+08 2018-08-15\n",
       "1  dogecoin  0.002307  4.062750e+06  2.669251e+08 2018-08-16\n",
       "2  dogecoin  0.002316  5.509242e+06  2.648706e+08 2018-08-17\n",
       "3  dogecoin  0.002496  4.174969e+06  2.890354e+08 2018-08-18\n",
       "4  dogecoin  0.002404  8.131350e+06  2.781876e+08 2018-08-19"
      ]
     },
     "execution_count": 169,
     "metadata": {},
     "output_type": "execute_result"
    }
   ],
   "source": [
    "dogecoin_df.head()"
   ]
  },
  {
   "cell_type": "markdown",
   "metadata": {},
   "source": [
    "**ALGORAND**"
   ]
  },
  {
   "cell_type": "code",
   "execution_count": 172,
   "metadata": {},
   "outputs": [],
   "source": [
    "# Crear una nueva fila con el timestamp y los valores de cada métrica\n",
    "algorand_df['Data'] = algorand_df.apply(\n",
    "    lambda row: [row['prices'][0],row['prices'][1], row['total_volumes'][1], row['market_caps'][1]],\n",
    "    axis=1\n",
    ")\n",
    "\n",
    "# Crear un nuevo DataFrame con las columnas Id, Timestamp, Prices, Volumes,Valor_MarketCap\n",
    "new_columns = ['Timestamp', 'Prices', 'Volumes', 'Market_Cap']\n",
    "new_data = [list(row) for row in algorand_df['Data']]\n",
    "algorand_df = pd.DataFrame(new_data, columns=new_columns)\n",
    "algorand_df.insert(0, 'Id', 'algorand')"
   ]
  },
  {
   "cell_type": "code",
   "execution_count": 173,
   "metadata": {},
   "outputs": [],
   "source": [
    "# Cambiar el formato a fecha en la columna Timestamp\n",
    "algorand_df['Date'] = pd.to_datetime(algorand_df['Timestamp'], unit='ms')\n",
    "algorand_df.drop(columns = 'Timestamp', inplace = True)"
   ]
  },
  {
   "cell_type": "code",
   "execution_count": 174,
   "metadata": {},
   "outputs": [
    {
     "data": {
      "text/html": [
       "<div>\n",
       "<style scoped>\n",
       "    .dataframe tbody tr th:only-of-type {\n",
       "        vertical-align: middle;\n",
       "    }\n",
       "\n",
       "    .dataframe tbody tr th {\n",
       "        vertical-align: top;\n",
       "    }\n",
       "\n",
       "    .dataframe thead th {\n",
       "        text-align: right;\n",
       "    }\n",
       "</style>\n",
       "<table border=\"1\" class=\"dataframe\">\n",
       "  <thead>\n",
       "    <tr style=\"text-align: right;\">\n",
       "      <th></th>\n",
       "      <th>Id</th>\n",
       "      <th>Prices</th>\n",
       "      <th>Volumes</th>\n",
       "      <th>Market_Cap</th>\n",
       "      <th>Date</th>\n",
       "    </tr>\n",
       "  </thead>\n",
       "  <tbody>\n",
       "    <tr>\n",
       "      <th>0</th>\n",
       "      <td>algorand</td>\n",
       "      <td>1.604939</td>\n",
       "      <td>6.653181e+05</td>\n",
       "      <td>0.000000e+00</td>\n",
       "      <td>2019-06-21</td>\n",
       "    </tr>\n",
       "    <tr>\n",
       "      <th>1</th>\n",
       "      <td>algorand</td>\n",
       "      <td>3.172364</td>\n",
       "      <td>1.790331e+08</td>\n",
       "      <td>1.010855e+08</td>\n",
       "      <td>2019-06-22</td>\n",
       "    </tr>\n",
       "    <tr>\n",
       "      <th>2</th>\n",
       "      <td>algorand</td>\n",
       "      <td>2.159165</td>\n",
       "      <td>2.588226e+08</td>\n",
       "      <td>7.665618e+07</td>\n",
       "      <td>2019-06-23</td>\n",
       "    </tr>\n",
       "    <tr>\n",
       "      <th>3</th>\n",
       "      <td>algorand</td>\n",
       "      <td>1.899598</td>\n",
       "      <td>2.100211e+08</td>\n",
       "      <td>6.647512e+07</td>\n",
       "      <td>2019-06-24</td>\n",
       "    </tr>\n",
       "    <tr>\n",
       "      <th>4</th>\n",
       "      <td>algorand</td>\n",
       "      <td>1.409310</td>\n",
       "      <td>1.574706e+08</td>\n",
       "      <td>5.522254e+07</td>\n",
       "      <td>2019-06-25</td>\n",
       "    </tr>\n",
       "  </tbody>\n",
       "</table>\n",
       "</div>"
      ],
      "text/plain": [
       "         Id    Prices       Volumes    Market_Cap       Date\n",
       "0  algorand  1.604939  6.653181e+05  0.000000e+00 2019-06-21\n",
       "1  algorand  3.172364  1.790331e+08  1.010855e+08 2019-06-22\n",
       "2  algorand  2.159165  2.588226e+08  7.665618e+07 2019-06-23\n",
       "3  algorand  1.899598  2.100211e+08  6.647512e+07 2019-06-24\n",
       "4  algorand  1.409310  1.574706e+08  5.522254e+07 2019-06-25"
      ]
     },
     "execution_count": 174,
     "metadata": {},
     "output_type": "execute_result"
    }
   ],
   "source": [
    "algorand_df.head()"
   ]
  },
  {
   "cell_type": "markdown",
   "metadata": {},
   "source": [
    "**COSMOS**"
   ]
  },
  {
   "cell_type": "code",
   "execution_count": 177,
   "metadata": {},
   "outputs": [],
   "source": [
    "# Crear una nueva fila con el timestamp y los valores de cada métrica\n",
    "cosmos_df['Data'] = cosmos_df.apply(\n",
    "    lambda row: [row['prices'][0],row['prices'][1], row['total_volumes'][1], row['market_caps'][1]],\n",
    "    axis=1\n",
    ")\n",
    "\n",
    "# Crear un nuevo DataFrame con las columnas Id, Timestamp, Prices, Volumes,Valor_MarketCap\n",
    "new_columns = ['Timestamp', 'Prices', 'Volumes', 'Market_Cap']\n",
    "new_data = [list(row) for row in cosmos_df['Data']]\n",
    "cosmos_df = pd.DataFrame(new_data, columns=new_columns)\n",
    "cosmos_df.insert(0, 'Id', 'cosmos')"
   ]
  },
  {
   "cell_type": "code",
   "execution_count": 178,
   "metadata": {},
   "outputs": [],
   "source": [
    "# Cambiar el formato a fecha en la columna Timestamp\n",
    "cosmos_df['Date'] = pd.to_datetime(cosmos_df['Timestamp'], unit='ms')\n",
    "cosmos_df.drop(columns = 'Timestamp', inplace = True)"
   ]
  },
  {
   "cell_type": "code",
   "execution_count": 179,
   "metadata": {},
   "outputs": [
    {
     "data": {
      "text/html": [
       "<div>\n",
       "<style scoped>\n",
       "    .dataframe tbody tr th:only-of-type {\n",
       "        vertical-align: middle;\n",
       "    }\n",
       "\n",
       "    .dataframe tbody tr th {\n",
       "        vertical-align: top;\n",
       "    }\n",
       "\n",
       "    .dataframe thead th {\n",
       "        text-align: right;\n",
       "    }\n",
       "</style>\n",
       "<table border=\"1\" class=\"dataframe\">\n",
       "  <thead>\n",
       "    <tr style=\"text-align: right;\">\n",
       "      <th></th>\n",
       "      <th>Id</th>\n",
       "      <th>Prices</th>\n",
       "      <th>Volumes</th>\n",
       "      <th>Market_Cap</th>\n",
       "      <th>Date</th>\n",
       "    </tr>\n",
       "  </thead>\n",
       "  <tbody>\n",
       "    <tr>\n",
       "      <th>0</th>\n",
       "      <td>cosmos</td>\n",
       "      <td>2.751586</td>\n",
       "      <td>9264.589772</td>\n",
       "      <td>0.0</td>\n",
       "      <td>2019-02-24</td>\n",
       "    </tr>\n",
       "    <tr>\n",
       "      <th>1</th>\n",
       "      <td>cosmos</td>\n",
       "      <td>3.002397</td>\n",
       "      <td>528.421839</td>\n",
       "      <td>0.0</td>\n",
       "      <td>2019-02-25</td>\n",
       "    </tr>\n",
       "    <tr>\n",
       "      <th>2</th>\n",
       "      <td>cosmos</td>\n",
       "      <td>3.740964</td>\n",
       "      <td>10766.494684</td>\n",
       "      <td>0.0</td>\n",
       "      <td>2019-02-26</td>\n",
       "    </tr>\n",
       "    <tr>\n",
       "      <th>3</th>\n",
       "      <td>cosmos</td>\n",
       "      <td>3.992312</td>\n",
       "      <td>13527.310484</td>\n",
       "      <td>0.0</td>\n",
       "      <td>2019-02-27</td>\n",
       "    </tr>\n",
       "    <tr>\n",
       "      <th>4</th>\n",
       "      <td>cosmos</td>\n",
       "      <td>3.528405</td>\n",
       "      <td>3560.407725</td>\n",
       "      <td>0.0</td>\n",
       "      <td>2019-02-28</td>\n",
       "    </tr>\n",
       "  </tbody>\n",
       "</table>\n",
       "</div>"
      ],
      "text/plain": [
       "       Id    Prices       Volumes  Market_Cap       Date\n",
       "0  cosmos  2.751586   9264.589772         0.0 2019-02-24\n",
       "1  cosmos  3.002397    528.421839         0.0 2019-02-25\n",
       "2  cosmos  3.740964  10766.494684         0.0 2019-02-26\n",
       "3  cosmos  3.992312  13527.310484         0.0 2019-02-27\n",
       "4  cosmos  3.528405   3560.407725         0.0 2019-02-28"
      ]
     },
     "execution_count": 179,
     "metadata": {},
     "output_type": "execute_result"
    }
   ],
   "source": [
    "cosmos_df.head()"
   ]
  },
  {
   "cell_type": "markdown",
   "metadata": {},
   "source": [
    "--------------------"
   ]
  },
  {
   "cell_type": "markdown",
   "metadata": {},
   "source": [
    "## **III. LOAD - CREACIÓN DE DATASETS**\n",
    "- En este punto los datos estan listos para ser guardados en archivos csv para ser explorados y analizados. \n",
    "- Se crea un dataset de indices generales, un dataset para cada coin y un dataset general que unifica todos los datasets independientes.  "
   ]
  },
  {
   "cell_type": "code",
   "execution_count": 189,
   "metadata": {},
   "outputs": [],
   "source": [
    "#Dataset Indice con datos generales\n",
    "coins.to_csv('coins_names.csv', index=False)\n",
    "\n",
    "#Datasets para los datos de cada coin\n",
    "bitcoin_df.to_csv('bitcoin_df.csv', index=False)\n",
    "ethereum_df.to_csv('ethereum_df.csv', index=False)\n",
    "tether_df.to_csv('tether_df.csv', index=False)\n",
    "binancecoin_df.to_csv('binancecoin_df.csv', index=False)\n",
    "ripple_df.to_csv('ripple_df.csv', index=False)\n",
    "usdcoin_df.to_csv('usdcoin_df.csv', index=False)\n",
    "stakedether_df.to_csv('stakedether_df.csv', index=False)\n",
    "cardano_df.to_csv('cardano_df.csv', index=False)\n",
    "solana_df.to_csv('solana_df.csv', index=False)\n",
    "dogecoin_df.to_csv('dogecoin_df.csv', index=False)\n",
    "algorand_df.to_csv('algorand_df.csv', index=False)\n",
    "cosmos_df.to_csv('cosmos_df.csv', index=False)"
   ]
  },
  {
   "cell_type": "markdown",
   "metadata": {},
   "source": [
    "- Se crea un dataframe consolidado "
   ]
  },
  {
   "cell_type": "code",
   "execution_count": 186,
   "metadata": {},
   "outputs": [],
   "source": [
    "#Lista de DF\n",
    "df_list = [bitcoin_df, ethereum_df, tether_df, binancecoin_df, ripple_df, usdcoin_df, stakedether_df, cardano_df, solana_df,\n",
    "          dogecoin_df, algorand_df, cosmos_df]\n",
    "\n",
    "# Concatenar los DataFrames en uno solo\n",
    "combined_df = pd.concat(df_list)\n",
    "\n",
    "# Restablecer los índices del DataFrame combinado\n",
    "combined_df.reset_index(drop=True, inplace=True)\n"
   ]
  },
  {
   "cell_type": "code",
   "execution_count": 187,
   "metadata": {},
   "outputs": [
    {
     "name": "stdout",
     "output_type": "stream",
     "text": [
      "<class 'pandas.core.frame.DataFrame'>\n",
      "RangeIndex: 19904 entries, 0 to 19903\n",
      "Data columns (total 5 columns):\n",
      " #   Column      Non-Null Count  Dtype         \n",
      "---  ------      --------------  -----         \n",
      " 0   Id          19904 non-null  object        \n",
      " 1   Prices      19904 non-null  float64       \n",
      " 2   Volumes     19904 non-null  float64       \n",
      " 3   Market_Cap  19904 non-null  float64       \n",
      " 4   Date        19904 non-null  datetime64[ns]\n",
      "dtypes: datetime64[ns](1), float64(3), object(1)\n",
      "memory usage: 777.6+ KB\n"
     ]
    }
   ],
   "source": [
    "combined_df.info()"
   ]
  },
  {
   "cell_type": "code",
   "execution_count": 190,
   "metadata": {},
   "outputs": [],
   "source": [
    "#Se guarda el dataframe en un archivo csv\n",
    "combined_df.to_csv('cryptos_total.csv', index=False)"
   ]
  },
  {
   "cell_type": "markdown",
   "metadata": {},
   "source": [
    "-------------------------------------"
   ]
  }
 ],
 "metadata": {
  "kernelspec": {
   "display_name": "Python 3",
   "language": "python",
   "name": "python3"
  },
  "language_info": {
   "codemirror_mode": {
    "name": "ipython",
    "version": 3
   },
   "file_extension": ".py",
   "mimetype": "text/x-python",
   "name": "python",
   "nbconvert_exporter": "python",
   "pygments_lexer": "ipython3",
   "version": "3.10.7"
  },
  "orig_nbformat": 4
 },
 "nbformat": 4,
 "nbformat_minor": 2
}
